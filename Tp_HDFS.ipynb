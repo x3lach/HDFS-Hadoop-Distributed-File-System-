{
  "nbformat": 4,
  "nbformat_minor": 0,
  "metadata": {
    "colab": {
      "provenance": []
    },
    "kernelspec": {
      "name": "python3",
      "display_name": "Python 3"
    },
    "language_info": {
      "name": "python"
    }
  },
  "cells": [
    {
      "cell_type": "markdown",
      "source": [
        "# Étape 1 : Installation de Java et Hadoop\n",
        "\n",
        "\n"
      ],
      "metadata": {
        "id": "LaxJLqimpNsr"
      }
    },
    {
      "cell_type": "code",
      "execution_count": 3,
      "metadata": {
        "id": "GvT0D4JunoFj"
      },
      "outputs": [],
      "source": [
        "!apt-get install openjdk-8-jdk-headless -qq > /dev/null\n",
        "!wget -q https://downloads.apache.org/hadoop/common/hadoop-3.3.6/hadoop-3.3.6.tar.gz\n",
        "!tar -xzf hadoop-3.3.6.tar.gz"
      ]
    },
    {
      "cell_type": "markdown",
      "source": [
        "# Étape 2 : Définition des variables d’environnement :"
      ],
      "metadata": {
        "id": "D2bbx8ILsOuT"
      }
    },
    {
      "cell_type": "code",
      "source": [
        "import os\n",
        "\n",
        "os.environ[\"JAVA_HOME\"] = \"/usr/lib/jvm/java-8-openjdk-amd64\"\n",
        "os.environ[\"HADOOP_HOME\"] = \"/content/hadoop-3.3.6\"\n",
        "os.environ[\"PATH\"] = os.environ[\"HADOOP_HOME\"] + \"/bin:\" + os.environ[\"PATH\"]"
      ],
      "metadata": {
        "id": "33vIrDG8s6QC"
      },
      "execution_count": 4,
      "outputs": []
    },
    {
      "cell_type": "markdown",
      "source": [
        "# Étape 3 : Configuration minimale de Hadoop"
      ],
      "metadata": {
        "id": "wfbF_ABvtQ2a"
      }
    },
    {
      "cell_type": "code",
      "source": [
        "core_site = \"\"\"\n",
        "<configuration>\n",
        "    <property>\n",
        "        <name>fs.defaultFS</name>\n",
        "        <value>hdfs://localhost:9000</value>\n",
        "    </property>\n",
        "</configuration>\n",
        "\"\"\"\n",
        "\n",
        "with open(\"/content/hadoop-3.3.6/etc/hadoop/core-site.xml\", \"w\") as f:\n",
        "    f.write(core_site)\n",
        "hdfs_site = \"\"\"\n",
        "<configuration>\n",
        "    <property>\n",
        "        <name>dfs.replication</name>\n",
        "        <value>1</value>\n",
        "    </property>\n",
        "    <property>\n",
        "        <name>dfs.namenode.name.dir</name>\n",
        "        <value>file:///content/hadoop_tmp/dfs/name</value>\n",
        "    </property>\n",
        "    <property>\n",
        "        <name>dfs.datanode.data.dir</name>\n",
        "        <value>file:///content/hadoop_tmp/dfs/data</value>\n",
        "    </property>\n",
        "</configuration>\n",
        "\"\"\"\n",
        "\n",
        "with open(\"/content/hadoop-3.3.6/etc/hadoop/hdfs-site.xml\", \"w\") as f:\n",
        "    f.write(hdfs_site)\n"
      ],
      "metadata": {
        "id": "4zOda6MMtUTE"
      },
      "execution_count": 7,
      "outputs": []
    },
    {
      "cell_type": "markdown",
      "source": [
        "# Étape 4 : Formater le système de fichiers HDFS :\n"
      ],
      "metadata": {
        "id": "OokGvFYQu8Xc"
      }
    },
    {
      "cell_type": "code",
      "source": [
        "!hdfs namenode -format"
      ],
      "metadata": {
        "colab": {
          "base_uri": "https://localhost:8080/"
        },
        "id": "78DtnyAWu-0L",
        "outputId": "599520e7-759f-4e8e-ca04-8ee64a3a7377"
      },
      "execution_count": 8,
      "outputs": [
        {
          "output_type": "stream",
          "name": "stdout",
          "text": [
            "WARNING: /content/hadoop-3.3.6/logs does not exist. Creating.\n",
            "2025-04-09 22:49:41,280 INFO namenode.NameNode: STARTUP_MSG: \n",
            "/************************************************************\n",
            "STARTUP_MSG: Starting NameNode\n",
            "STARTUP_MSG:   host = 666a58e84549/172.28.0.12\n",
            "STARTUP_MSG:   args = [-format]\n",
            "STARTUP_MSG:   version = 3.3.6\n",
            "STARTUP_MSG:   classpath = /content/hadoop-3.3.6/etc/hadoop:/content/hadoop-3.3.6/share/hadoop/common/lib/checker-qual-2.5.2.jar:/content/hadoop-3.3.6/share/hadoop/common/lib/netty-codec-stomp-4.1.89.Final.jar:/content/hadoop-3.3.6/share/hadoop/common/lib/kerb-client-1.0.1.jar:/content/hadoop-3.3.6/share/hadoop/common/lib/failureaccess-1.0.jar:/content/hadoop-3.3.6/share/hadoop/common/lib/kerby-pkix-1.0.1.jar:/content/hadoop-3.3.6/share/hadoop/common/lib/commons-logging-1.1.3.jar:/content/hadoop-3.3.6/share/hadoop/common/lib/httpclient-4.5.13.jar:/content/hadoop-3.3.6/share/hadoop/common/lib/netty-transport-classes-epoll-4.1.89.Final.jar:/content/hadoop-3.3.6/share/hadoop/common/lib/netty-codec-mqtt-4.1.89.Final.jar:/content/hadoop-3.3.6/share/hadoop/common/lib/protobuf-java-2.5.0.jar:/content/hadoop-3.3.6/share/hadoop/common/lib/netty-transport-classes-kqueue-4.1.89.Final.jar:/content/hadoop-3.3.6/share/hadoop/common/lib/jetty-server-9.4.51.v20230217.jar:/content/hadoop-3.3.6/share/hadoop/common/lib/kerb-util-1.0.1.jar:/content/hadoop-3.3.6/share/hadoop/common/lib/jersey-server-1.19.4.jar:/content/hadoop-3.3.6/share/hadoop/common/lib/netty-transport-native-epoll-4.1.89.Final-linux-aarch_64.jar:/content/hadoop-3.3.6/share/hadoop/common/lib/hadoop-annotations-3.3.6.jar:/content/hadoop-3.3.6/share/hadoop/common/lib/jcip-annotations-1.0-1.jar:/content/hadoop-3.3.6/share/hadoop/common/lib/jsch-0.1.55.jar:/content/hadoop-3.3.6/share/hadoop/common/lib/gson-2.9.0.jar:/content/hadoop-3.3.6/share/hadoop/common/lib/reload4j-1.2.22.jar:/content/hadoop-3.3.6/share/hadoop/common/lib/hadoop-auth-3.3.6.jar:/content/hadoop-3.3.6/share/hadoop/common/lib/jersey-servlet-1.19.4.jar:/content/hadoop-3.3.6/share/hadoop/common/lib/kerb-crypto-1.0.1.jar:/content/hadoop-3.3.6/share/hadoop/common/lib/commons-configuration2-2.8.0.jar:/content/hadoop-3.3.6/share/hadoop/common/lib/jetty-util-9.4.51.v20230217.jar:/content/hadoop-3.3.6/share/hadoop/common/lib/listenablefuture-9999.0-empty-to-avoid-conflict-with-guava.jar:/content/hadoop-3.3.6/share/hadoop/common/lib/netty-buffer-4.1.89.Final.jar:/content/hadoop-3.3.6/share/hadoop/common/lib/jsr305-3.0.2.jar:/content/hadoop-3.3.6/share/hadoop/common/lib/kerb-admin-1.0.1.jar:/content/hadoop-3.3.6/share/hadoop/common/lib/kerb-identity-1.0.1.jar:/content/hadoop-3.3.6/share/hadoop/common/lib/jersey-core-1.19.4.jar:/content/hadoop-3.3.6/share/hadoop/common/lib/paranamer-2.3.jar:/content/hadoop-3.3.6/share/hadoop/common/lib/commons-cli-1.2.jar:/content/hadoop-3.3.6/share/hadoop/common/lib/jetty-http-9.4.51.v20230217.jar:/content/hadoop-3.3.6/share/hadoop/common/lib/kerby-config-1.0.1.jar:/content/hadoop-3.3.6/share/hadoop/common/lib/jetty-security-9.4.51.v20230217.jar:/content/hadoop-3.3.6/share/hadoop/common/lib/netty-resolver-dns-native-macos-4.1.89.Final-osx-x86_64.jar:/content/hadoop-3.3.6/share/hadoop/common/lib/animal-sniffer-annotations-1.17.jar:/content/hadoop-3.3.6/share/hadoop/common/lib/jul-to-slf4j-1.7.36.jar:/content/hadoop-3.3.6/share/hadoop/common/lib/slf4j-reload4j-1.7.36.jar:/content/hadoop-3.3.6/share/hadoop/common/lib/kerby-asn1-1.0.1.jar:/content/hadoop-3.3.6/share/hadoop/common/lib/commons-beanutils-1.9.4.jar:/content/hadoop-3.3.6/share/hadoop/common/lib/netty-common-4.1.89.Final.jar:/content/hadoop-3.3.6/share/hadoop/common/lib/curator-framework-5.2.0.jar:/content/hadoop-3.3.6/share/hadoop/common/lib/commons-collections-3.2.2.jar:/content/hadoop-3.3.6/share/hadoop/common/lib/netty-transport-native-kqueue-4.1.89.Final-osx-x86_64.jar:/content/hadoop-3.3.6/share/hadoop/common/lib/netty-handler-4.1.89.Final.jar:/content/hadoop-3.3.6/share/hadoop/common/lib/nimbus-jose-jwt-9.8.1.jar:/content/hadoop-3.3.6/share/hadoop/common/lib/kerb-core-1.0.1.jar:/content/hadoop-3.3.6/share/hadoop/common/lib/netty-codec-http-4.1.89.Final.jar:/content/hadoop-3.3.6/share/hadoop/common/lib/jetty-servlet-9.4.51.v20230217.jar:/content/hadoop-3.3.6/share/hadoop/common/lib/guava-27.0-jre.jar:/content/hadoop-3.3.6/share/hadoop/common/lib/kerb-common-1.0.1.jar:/content/hadoop-3.3.6/share/hadoop/common/lib/slf4j-api-1.7.36.jar:/content/hadoop-3.3.6/share/hadoop/common/lib/jetty-webapp-9.4.51.v20230217.jar:/content/hadoop-3.3.6/share/hadoop/common/lib/dnsjava-2.1.7.jar:/content/hadoop-3.3.6/share/hadoop/common/lib/zookeeper-3.6.3.jar:/content/hadoop-3.3.6/share/hadoop/common/lib/netty-transport-native-epoll-4.1.89.Final-linux-x86_64.jar:/content/hadoop-3.3.6/share/hadoop/common/lib/jetty-util-ajax-9.4.51.v20230217.jar:/content/hadoop-3.3.6/share/hadoop/common/lib/kerb-server-1.0.1.jar:/content/hadoop-3.3.6/share/hadoop/common/lib/commons-lang3-3.12.0.jar:/content/hadoop-3.3.6/share/hadoop/common/lib/jsp-api-2.1.jar:/content/hadoop-3.3.6/share/hadoop/common/lib/jetty-io-9.4.51.v20230217.jar:/content/hadoop-3.3.6/share/hadoop/common/lib/zookeeper-jute-3.6.3.jar:/content/hadoop-3.3.6/share/hadoop/common/lib/kerby-xdr-1.0.1.jar:/content/hadoop-3.3.6/share/hadoop/common/lib/netty-codec-haproxy-4.1.89.Final.jar:/content/hadoop-3.3.6/share/hadoop/common/lib/audience-annotations-0.5.0.jar:/content/hadoop-3.3.6/share/hadoop/common/lib/netty-handler-ssl-ocsp-4.1.89.Final.jar:/content/hadoop-3.3.6/share/hadoop/common/lib/kerb-simplekdc-1.0.1.jar:/content/hadoop-3.3.6/share/hadoop/common/lib/jackson-databind-2.12.7.1.jar:/content/hadoop-3.3.6/share/hadoop/common/lib/metrics-core-3.2.4.jar:/content/hadoop-3.3.6/share/hadoop/common/lib/hadoop-shaded-guava-1.1.1.jar:/content/hadoop-3.3.6/share/hadoop/common/lib/curator-recipes-5.2.0.jar:/content/hadoop-3.3.6/share/hadoop/common/lib/javax.servlet-api-3.1.0.jar:/content/hadoop-3.3.6/share/hadoop/common/lib/jersey-json-1.20.jar:/content/hadoop-3.3.6/share/hadoop/common/lib/jettison-1.5.4.jar:/content/hadoop-3.3.6/share/hadoop/common/lib/netty-codec-4.1.89.Final.jar:/content/hadoop-3.3.6/share/hadoop/common/lib/netty-codec-xml-4.1.89.Final.jar:/content/hadoop-3.3.6/share/hadoop/common/lib/jackson-mapper-asl-1.9.13.jar:/content/hadoop-3.3.6/share/hadoop/common/lib/commons-daemon-1.0.13.jar:/content/hadoop-3.3.6/share/hadoop/common/lib/netty-codec-http2-4.1.89.Final.jar:/content/hadoop-3.3.6/share/hadoop/common/lib/jaxb-api-2.2.11.jar:/content/hadoop-3.3.6/share/hadoop/common/lib/commons-compress-1.21.jar:/content/hadoop-3.3.6/share/hadoop/common/lib/hadoop-shaded-protobuf_3_7-1.1.1.jar:/content/hadoop-3.3.6/share/hadoop/common/lib/netty-codec-redis-4.1.89.Final.jar:/content/hadoop-3.3.6/share/hadoop/common/lib/netty-resolver-dns-classes-macos-4.1.89.Final.jar:/content/hadoop-3.3.6/share/hadoop/common/lib/netty-resolver-4.1.89.Final.jar:/content/hadoop-3.3.6/share/hadoop/common/lib/netty-resolver-dns-4.1.89.Final.jar:/content/hadoop-3.3.6/share/hadoop/common/lib/jsr311-api-1.1.1.jar:/content/hadoop-3.3.6/share/hadoop/common/lib/httpcore-4.4.13.jar:/content/hadoop-3.3.6/share/hadoop/common/lib/netty-transport-udt-4.1.89.Final.jar:/content/hadoop-3.3.6/share/hadoop/common/lib/netty-transport-native-kqueue-4.1.89.Final-osx-aarch_64.jar:/content/hadoop-3.3.6/share/hadoop/common/lib/kerby-util-1.0.1.jar:/content/hadoop-3.3.6/share/hadoop/common/lib/netty-transport-4.1.89.Final.jar:/content/hadoop-3.3.6/share/hadoop/common/lib/netty-transport-sctp-4.1.89.Final.jar:/content/hadoop-3.3.6/share/hadoop/common/lib/jackson-core-asl-1.9.13.jar:/content/hadoop-3.3.6/share/hadoop/common/lib/commons-codec-1.15.jar:/content/hadoop-3.3.6/share/hadoop/common/lib/j2objc-annotations-1.1.jar:/content/hadoop-3.3.6/share/hadoop/common/lib/netty-resolver-dns-native-macos-4.1.89.Final-osx-aarch_64.jar:/content/hadoop-3.3.6/share/hadoop/common/lib/stax2-api-4.2.1.jar:/content/hadoop-3.3.6/share/hadoop/common/lib/commons-math3-3.1.1.jar:/content/hadoop-3.3.6/share/hadoop/common/lib/netty-codec-smtp-4.1.89.Final.jar:/content/hadoop-3.3.6/share/hadoop/common/lib/netty-all-4.1.89.Final.jar:/content/hadoop-3.3.6/share/hadoop/common/lib/commons-net-3.9.0.jar:/content/hadoop-3.3.6/share/hadoop/common/lib/snappy-java-1.1.8.2.jar:/content/hadoop-3.3.6/share/hadoop/common/lib/avro-1.7.7.jar:/content/hadoop-3.3.6/share/hadoop/common/lib/jetty-xml-9.4.51.v20230217.jar:/content/hadoop-3.3.6/share/hadoop/common/lib/netty-codec-memcache-4.1.89.Final.jar:/content/hadoop-3.3.6/share/hadoop/common/lib/curator-client-5.2.0.jar:/content/hadoop-3.3.6/share/hadoop/common/lib/woodstox-core-5.4.0.jar:/content/hadoop-3.3.6/share/hadoop/common/lib/jackson-core-2.12.7.jar:/content/hadoop-3.3.6/share/hadoop/common/lib/netty-handler-proxy-4.1.89.Final.jar:/content/hadoop-3.3.6/share/hadoop/common/lib/netty-codec-dns-4.1.89.Final.jar:/content/hadoop-3.3.6/share/hadoop/common/lib/commons-text-1.10.0.jar:/content/hadoop-3.3.6/share/hadoop/common/lib/token-provider-1.0.1.jar:/content/hadoop-3.3.6/share/hadoop/common/lib/jaxb-impl-2.2.3-1.jar:/content/hadoop-3.3.6/share/hadoop/common/lib/commons-io-2.8.0.jar:/content/hadoop-3.3.6/share/hadoop/common/lib/netty-transport-rxtx-4.1.89.Final.jar:/content/hadoop-3.3.6/share/hadoop/common/lib/jackson-annotations-2.12.7.jar:/content/hadoop-3.3.6/share/hadoop/common/lib/netty-codec-socks-4.1.89.Final.jar:/content/hadoop-3.3.6/share/hadoop/common/lib/re2j-1.1.jar:/content/hadoop-3.3.6/share/hadoop/common/lib/netty-transport-native-unix-common-4.1.89.Final.jar:/content/hadoop-3.3.6/share/hadoop/common/lib/jakarta.activation-api-1.2.1.jar:/content/hadoop-3.3.6/share/hadoop/common/hadoop-kms-3.3.6.jar:/content/hadoop-3.3.6/share/hadoop/common/hadoop-registry-3.3.6.jar:/content/hadoop-3.3.6/share/hadoop/common/hadoop-nfs-3.3.6.jar:/content/hadoop-3.3.6/share/hadoop/common/hadoop-common-3.3.6-tests.jar:/content/hadoop-3.3.6/share/hadoop/common/hadoop-common-3.3.6.jar:/content/hadoop-3.3.6/share/hadoop/hdfs:/content/hadoop-3.3.6/share/hadoop/hdfs/lib/checker-qual-2.5.2.jar:/content/hadoop-3.3.6/share/hadoop/hdfs/lib/netty-codec-stomp-4.1.89.Final.jar:/content/hadoop-3.3.6/share/hadoop/hdfs/lib/okhttp-4.9.3.jar:/content/hadoop-3.3.6/share/hadoop/hdfs/lib/kerb-client-1.0.1.jar:/content/hadoop-3.3.6/share/hadoop/hdfs/lib/failureaccess-1.0.jar:/content/hadoop-3.3.6/share/hadoop/hdfs/lib/kerby-pkix-1.0.1.jar:/content/hadoop-3.3.6/share/hadoop/hdfs/lib/commons-logging-1.1.3.jar:/content/hadoop-3.3.6/share/hadoop/hdfs/lib/httpclient-4.5.13.jar:/content/hadoop-3.3.6/share/hadoop/hdfs/lib/netty-transport-classes-epoll-4.1.89.Final.jar:/content/hadoop-3.3.6/share/hadoop/hdfs/lib/netty-codec-mqtt-4.1.89.Final.jar:/content/hadoop-3.3.6/share/hadoop/hdfs/lib/protobuf-java-2.5.0.jar:/content/hadoop-3.3.6/share/hadoop/hdfs/lib/netty-transport-classes-kqueue-4.1.89.Final.jar:/content/hadoop-3.3.6/share/hadoop/hdfs/lib/jetty-server-9.4.51.v20230217.jar:/content/hadoop-3.3.6/share/hadoop/hdfs/lib/kerb-util-1.0.1.jar:/content/hadoop-3.3.6/share/hadoop/hdfs/lib/jersey-server-1.19.4.jar:/content/hadoop-3.3.6/share/hadoop/hdfs/lib/netty-transport-native-epoll-4.1.89.Final-linux-aarch_64.jar:/content/hadoop-3.3.6/share/hadoop/hdfs/lib/hadoop-annotations-3.3.6.jar:/content/hadoop-3.3.6/share/hadoop/hdfs/lib/jcip-annotations-1.0-1.jar:/content/hadoop-3.3.6/share/hadoop/hdfs/lib/jsch-0.1.55.jar:/content/hadoop-3.3.6/share/hadoop/hdfs/lib/gson-2.9.0.jar:/content/hadoop-3.3.6/share/hadoop/hdfs/lib/reload4j-1.2.22.jar:/content/hadoop-3.3.6/share/hadoop/hdfs/lib/hadoop-auth-3.3.6.jar:/content/hadoop-3.3.6/share/hadoop/hdfs/lib/jersey-servlet-1.19.4.jar:/content/hadoop-3.3.6/share/hadoop/hdfs/lib/kerb-crypto-1.0.1.jar:/content/hadoop-3.3.6/share/hadoop/hdfs/lib/commons-configuration2-2.8.0.jar:/content/hadoop-3.3.6/share/hadoop/hdfs/lib/HikariCP-java7-2.4.12.jar:/content/hadoop-3.3.6/share/hadoop/hdfs/lib/jetty-util-9.4.51.v20230217.jar:/content/hadoop-3.3.6/share/hadoop/hdfs/lib/listenablefuture-9999.0-empty-to-avoid-conflict-with-guava.jar:/content/hadoop-3.3.6/share/hadoop/hdfs/lib/netty-buffer-4.1.89.Final.jar:/content/hadoop-3.3.6/share/hadoop/hdfs/lib/jsr305-3.0.2.jar:/content/hadoop-3.3.6/share/hadoop/hdfs/lib/kerb-admin-1.0.1.jar:/content/hadoop-3.3.6/share/hadoop/hdfs/lib/kerb-identity-1.0.1.jar:/content/hadoop-3.3.6/share/hadoop/hdfs/lib/jersey-core-1.19.4.jar:/content/hadoop-3.3.6/share/hadoop/hdfs/lib/paranamer-2.3.jar:/content/hadoop-3.3.6/share/hadoop/hdfs/lib/commons-cli-1.2.jar:/content/hadoop-3.3.6/share/hadoop/hdfs/lib/jetty-http-9.4.51.v20230217.jar:/content/hadoop-3.3.6/share/hadoop/hdfs/lib/kerby-config-1.0.1.jar:/content/hadoop-3.3.6/share/hadoop/hdfs/lib/jetty-security-9.4.51.v20230217.jar:/content/hadoop-3.3.6/share/hadoop/hdfs/lib/netty-resolver-dns-native-macos-4.1.89.Final-osx-x86_64.jar:/content/hadoop-3.3.6/share/hadoop/hdfs/lib/animal-sniffer-annotations-1.17.jar:/content/hadoop-3.3.6/share/hadoop/hdfs/lib/kerby-asn1-1.0.1.jar:/content/hadoop-3.3.6/share/hadoop/hdfs/lib/commons-beanutils-1.9.4.jar:/content/hadoop-3.3.6/share/hadoop/hdfs/lib/netty-common-4.1.89.Final.jar:/content/hadoop-3.3.6/share/hadoop/hdfs/lib/curator-framework-5.2.0.jar:/content/hadoop-3.3.6/share/hadoop/hdfs/lib/commons-collections-3.2.2.jar:/content/hadoop-3.3.6/share/hadoop/hdfs/lib/netty-transport-native-kqueue-4.1.89.Final-osx-x86_64.jar:/content/hadoop-3.3.6/share/hadoop/hdfs/lib/netty-handler-4.1.89.Final.jar:/content/hadoop-3.3.6/share/hadoop/hdfs/lib/nimbus-jose-jwt-9.8.1.jar:/content/hadoop-3.3.6/share/hadoop/hdfs/lib/kerb-core-1.0.1.jar:/content/hadoop-3.3.6/share/hadoop/hdfs/lib/kotlin-stdlib-common-1.4.10.jar:/content/hadoop-3.3.6/share/hadoop/hdfs/lib/netty-codec-http-4.1.89.Final.jar:/content/hadoop-3.3.6/share/hadoop/hdfs/lib/jetty-servlet-9.4.51.v20230217.jar:/content/hadoop-3.3.6/share/hadoop/hdfs/lib/guava-27.0-jre.jar:/content/hadoop-3.3.6/share/hadoop/hdfs/lib/kerb-common-1.0.1.jar:/content/hadoop-3.3.6/share/hadoop/hdfs/lib/jetty-webapp-9.4.51.v20230217.jar:/content/hadoop-3.3.6/share/hadoop/hdfs/lib/dnsjava-2.1.7.jar:/content/hadoop-3.3.6/share/hadoop/hdfs/lib/zookeeper-3.6.3.jar:/content/hadoop-3.3.6/share/hadoop/hdfs/lib/netty-transport-native-epoll-4.1.89.Final-linux-x86_64.jar:/content/hadoop-3.3.6/share/hadoop/hdfs/lib/jetty-util-ajax-9.4.51.v20230217.jar:/content/hadoop-3.3.6/share/hadoop/hdfs/lib/kerb-server-1.0.1.jar:/content/hadoop-3.3.6/share/hadoop/hdfs/lib/commons-lang3-3.12.0.jar:/content/hadoop-3.3.6/share/hadoop/hdfs/lib/jetty-io-9.4.51.v20230217.jar:/content/hadoop-3.3.6/share/hadoop/hdfs/lib/zookeeper-jute-3.6.3.jar:/content/hadoop-3.3.6/share/hadoop/hdfs/lib/kerby-xdr-1.0.1.jar:/content/hadoop-3.3.6/share/hadoop/hdfs/lib/netty-codec-haproxy-4.1.89.Final.jar:/content/hadoop-3.3.6/share/hadoop/hdfs/lib/audience-annotations-0.5.0.jar:/content/hadoop-3.3.6/share/hadoop/hdfs/lib/netty-handler-ssl-ocsp-4.1.89.Final.jar:/content/hadoop-3.3.6/share/hadoop/hdfs/lib/kerb-simplekdc-1.0.1.jar:/content/hadoop-3.3.6/share/hadoop/hdfs/lib/jackson-databind-2.12.7.1.jar:/content/hadoop-3.3.6/share/hadoop/hdfs/lib/metrics-core-3.2.4.jar:/content/hadoop-3.3.6/share/hadoop/hdfs/lib/hadoop-shaded-guava-1.1.1.jar:/content/hadoop-3.3.6/share/hadoop/hdfs/lib/curator-recipes-5.2.0.jar:/content/hadoop-3.3.6/share/hadoop/hdfs/lib/javax.servlet-api-3.1.0.jar:/content/hadoop-3.3.6/share/hadoop/hdfs/lib/jersey-json-1.20.jar:/content/hadoop-3.3.6/share/hadoop/hdfs/lib/jettison-1.5.4.jar:/content/hadoop-3.3.6/share/hadoop/hdfs/lib/netty-codec-4.1.89.Final.jar:/content/hadoop-3.3.6/share/hadoop/hdfs/lib/netty-codec-xml-4.1.89.Final.jar:/content/hadoop-3.3.6/share/hadoop/hdfs/lib/jackson-mapper-asl-1.9.13.jar:/content/hadoop-3.3.6/share/hadoop/hdfs/lib/commons-daemon-1.0.13.jar:/content/hadoop-3.3.6/share/hadoop/hdfs/lib/netty-codec-http2-4.1.89.Final.jar:/content/hadoop-3.3.6/share/hadoop/hdfs/lib/jaxb-api-2.2.11.jar:/content/hadoop-3.3.6/share/hadoop/hdfs/lib/commons-compress-1.21.jar:/content/hadoop-3.3.6/share/hadoop/hdfs/lib/hadoop-shaded-protobuf_3_7-1.1.1.jar:/content/hadoop-3.3.6/share/hadoop/hdfs/lib/netty-codec-redis-4.1.89.Final.jar:/content/hadoop-3.3.6/share/hadoop/hdfs/lib/netty-resolver-dns-classes-macos-4.1.89.Final.jar:/content/hadoop-3.3.6/share/hadoop/hdfs/lib/netty-resolver-4.1.89.Final.jar:/content/hadoop-3.3.6/share/hadoop/hdfs/lib/netty-resolver-dns-4.1.89.Final.jar:/content/hadoop-3.3.6/share/hadoop/hdfs/lib/jsr311-api-1.1.1.jar:/content/hadoop-3.3.6/share/hadoop/hdfs/lib/httpcore-4.4.13.jar:/content/hadoop-3.3.6/share/hadoop/hdfs/lib/netty-transport-udt-4.1.89.Final.jar:/content/hadoop-3.3.6/share/hadoop/hdfs/lib/netty-transport-native-kqueue-4.1.89.Final-osx-aarch_64.jar:/content/hadoop-3.3.6/share/hadoop/hdfs/lib/kerby-util-1.0.1.jar:/content/hadoop-3.3.6/share/hadoop/hdfs/lib/netty-transport-4.1.89.Final.jar:/content/hadoop-3.3.6/share/hadoop/hdfs/lib/netty-transport-sctp-4.1.89.Final.jar:/content/hadoop-3.3.6/share/hadoop/hdfs/lib/jackson-core-asl-1.9.13.jar:/content/hadoop-3.3.6/share/hadoop/hdfs/lib/commons-codec-1.15.jar:/content/hadoop-3.3.6/share/hadoop/hdfs/lib/j2objc-annotations-1.1.jar:/content/hadoop-3.3.6/share/hadoop/hdfs/lib/netty-resolver-dns-native-macos-4.1.89.Final-osx-aarch_64.jar:/content/hadoop-3.3.6/share/hadoop/hdfs/lib/stax2-api-4.2.1.jar:/content/hadoop-3.3.6/share/hadoop/hdfs/lib/commons-math3-3.1.1.jar:/content/hadoop-3.3.6/share/hadoop/hdfs/lib/netty-codec-smtp-4.1.89.Final.jar:/content/hadoop-3.3.6/share/hadoop/hdfs/lib/json-simple-1.1.1.jar:/content/hadoop-3.3.6/share/hadoop/hdfs/lib/netty-all-4.1.89.Final.jar:/content/hadoop-3.3.6/share/hadoop/hdfs/lib/leveldbjni-all-1.8.jar:/content/hadoop-3.3.6/share/hadoop/hdfs/lib/commons-net-3.9.0.jar:/content/hadoop-3.3.6/share/hadoop/hdfs/lib/snappy-java-1.1.8.2.jar:/content/hadoop-3.3.6/share/hadoop/hdfs/lib/avro-1.7.7.jar:/content/hadoop-3.3.6/share/hadoop/hdfs/lib/jetty-xml-9.4.51.v20230217.jar:/content/hadoop-3.3.6/share/hadoop/hdfs/lib/netty-codec-memcache-4.1.89.Final.jar:/content/hadoop-3.3.6/share/hadoop/hdfs/lib/netty-3.10.6.Final.jar:/content/hadoop-3.3.6/share/hadoop/hdfs/lib/curator-client-5.2.0.jar:/content/hadoop-3.3.6/share/hadoop/hdfs/lib/woodstox-core-5.4.0.jar:/content/hadoop-3.3.6/share/hadoop/hdfs/lib/jackson-core-2.12.7.jar:/content/hadoop-3.3.6/share/hadoop/hdfs/lib/netty-handler-proxy-4.1.89.Final.jar:/content/hadoop-3.3.6/share/hadoop/hdfs/lib/kotlin-stdlib-1.4.10.jar:/content/hadoop-3.3.6/share/hadoop/hdfs/lib/netty-codec-dns-4.1.89.Final.jar:/content/hadoop-3.3.6/share/hadoop/hdfs/lib/commons-text-1.10.0.jar:/content/hadoop-3.3.6/share/hadoop/hdfs/lib/token-provider-1.0.1.jar:/content/hadoop-3.3.6/share/hadoop/hdfs/lib/jaxb-impl-2.2.3-1.jar:/content/hadoop-3.3.6/share/hadoop/hdfs/lib/commons-io-2.8.0.jar:/content/hadoop-3.3.6/share/hadoop/hdfs/lib/netty-transport-rxtx-4.1.89.Final.jar:/content/hadoop-3.3.6/share/hadoop/hdfs/lib/okio-2.8.0.jar:/content/hadoop-3.3.6/share/hadoop/hdfs/lib/jackson-annotations-2.12.7.jar:/content/hadoop-3.3.6/share/hadoop/hdfs/lib/netty-codec-socks-4.1.89.Final.jar:/content/hadoop-3.3.6/share/hadoop/hdfs/lib/re2j-1.1.jar:/content/hadoop-3.3.6/share/hadoop/hdfs/lib/netty-transport-native-unix-common-4.1.89.Final.jar:/content/hadoop-3.3.6/share/hadoop/hdfs/lib/jakarta.activation-api-1.2.1.jar:/content/hadoop-3.3.6/share/hadoop/hdfs/hadoop-hdfs-3.3.6.jar:/content/hadoop-3.3.6/share/hadoop/hdfs/hadoop-hdfs-native-client-3.3.6-tests.jar:/content/hadoop-3.3.6/share/hadoop/hdfs/hadoop-hdfs-rbf-3.3.6.jar:/content/hadoop-3.3.6/share/hadoop/hdfs/hadoop-hdfs-rbf-3.3.6-tests.jar:/content/hadoop-3.3.6/share/hadoop/hdfs/hadoop-hdfs-client-3.3.6-tests.jar:/content/hadoop-3.3.6/share/hadoop/hdfs/hadoop-hdfs-client-3.3.6.jar:/content/hadoop-3.3.6/share/hadoop/hdfs/hadoop-hdfs-native-client-3.3.6.jar:/content/hadoop-3.3.6/share/hadoop/hdfs/hadoop-hdfs-3.3.6-tests.jar:/content/hadoop-3.3.6/share/hadoop/hdfs/hadoop-hdfs-nfs-3.3.6.jar:/content/hadoop-3.3.6/share/hadoop/hdfs/hadoop-hdfs-httpfs-3.3.6.jar:/content/hadoop-3.3.6/share/hadoop/mapreduce/hadoop-mapreduce-client-uploader-3.3.6.jar:/content/hadoop-3.3.6/share/hadoop/mapreduce/hadoop-mapreduce-client-app-3.3.6.jar:/content/hadoop-3.3.6/share/hadoop/mapreduce/hadoop-mapreduce-client-jobclient-3.3.6-tests.jar:/content/hadoop-3.3.6/share/hadoop/mapreduce/hadoop-mapreduce-client-shuffle-3.3.6.jar:/content/hadoop-3.3.6/share/hadoop/mapreduce/hadoop-mapreduce-client-nativetask-3.3.6.jar:/content/hadoop-3.3.6/share/hadoop/mapreduce/hadoop-mapreduce-client-common-3.3.6.jar:/content/hadoop-3.3.6/share/hadoop/mapreduce/hadoop-mapreduce-examples-3.3.6.jar:/content/hadoop-3.3.6/share/hadoop/mapreduce/hadoop-mapreduce-client-hs-plugins-3.3.6.jar:/content/hadoop-3.3.6/share/hadoop/mapreduce/hadoop-mapreduce-client-core-3.3.6.jar:/content/hadoop-3.3.6/share/hadoop/mapreduce/hadoop-mapreduce-client-jobclient-3.3.6.jar:/content/hadoop-3.3.6/share/hadoop/mapreduce/hadoop-mapreduce-client-hs-3.3.6.jar:/content/hadoop-3.3.6/share/hadoop/yarn:/content/hadoop-3.3.6/share/hadoop/yarn/lib/javax-websocket-client-impl-9.4.51.v20230217.jar:/content/hadoop-3.3.6/share/hadoop/yarn/lib/jersey-guice-1.19.4.jar:/content/hadoop-3.3.6/share/hadoop/yarn/lib/objenesis-2.6.jar:/content/hadoop-3.3.6/share/hadoop/yarn/lib/asm-tree-9.4.jar:/content/hadoop-3.3.6/share/hadoop/yarn/lib/websocket-client-9.4.51.v20230217.jar:/content/hadoop-3.3.6/share/hadoop/yarn/lib/jetty-plus-9.4.51.v20230217.jar:/content/hadoop-3.3.6/share/hadoop/yarn/lib/fst-2.50.jar:/content/hadoop-3.3.6/share/hadoop/yarn/lib/javax.inject-1.jar:/content/hadoop-3.3.6/share/hadoop/yarn/lib/jakarta.xml.bind-api-2.3.2.jar:/content/hadoop-3.3.6/share/hadoop/yarn/lib/javax.websocket-client-api-1.0.jar:/content/hadoop-3.3.6/share/hadoop/yarn/lib/java-util-1.9.0.jar:/content/hadoop-3.3.6/share/hadoop/yarn/lib/javax.websocket-api-1.0.jar:/content/hadoop-3.3.6/share/hadoop/yarn/lib/jackson-jaxrs-json-provider-2.12.7.jar:/content/hadoop-3.3.6/share/hadoop/yarn/lib/mssql-jdbc-6.2.1.jre7.jar:/content/hadoop-3.3.6/share/hadoop/yarn/lib/guice-4.0.jar:/content/hadoop-3.3.6/share/hadoop/yarn/lib/jetty-annotations-9.4.51.v20230217.jar:/content/hadoop-3.3.6/share/hadoop/yarn/lib/websocket-servlet-9.4.51.v20230217.jar:/content/hadoop-3.3.6/share/hadoop/yarn/lib/jna-5.2.0.jar:/content/hadoop-3.3.6/share/hadoop/yarn/lib/websocket-common-9.4.51.v20230217.jar:/content/hadoop-3.3.6/share/hadoop/yarn/lib/geronimo-jcache_1.0_spec-1.0-alpha-1.jar:/content/hadoop-3.3.6/share/hadoop/yarn/lib/jersey-client-1.19.4.jar:/content/hadoop-3.3.6/share/hadoop/yarn/lib/bcprov-jdk15on-1.68.jar:/content/hadoop-3.3.6/share/hadoop/yarn/lib/jackson-jaxrs-base-2.12.7.jar:/content/hadoop-3.3.6/share/hadoop/yarn/lib/aopalliance-1.0.jar:/content/hadoop-3.3.6/share/hadoop/yarn/lib/javax-websocket-server-impl-9.4.51.v20230217.jar:/content/hadoop-3.3.6/share/hadoop/yarn/lib/jackson-module-jaxb-annotations-2.12.7.jar:/content/hadoop-3.3.6/share/hadoop/yarn/lib/ehcache-3.3.1.jar:/content/hadoop-3.3.6/share/hadoop/yarn/lib/swagger-annotations-1.5.4.jar:/content/hadoop-3.3.6/share/hadoop/yarn/lib/json-io-2.5.1.jar:/content/hadoop-3.3.6/share/hadoop/yarn/lib/asm-commons-9.4.jar:/content/hadoop-3.3.6/share/hadoop/yarn/lib/websocket-server-9.4.51.v20230217.jar:/content/hadoop-3.3.6/share/hadoop/yarn/lib/bcpkix-jdk15on-1.68.jar:/content/hadoop-3.3.6/share/hadoop/yarn/lib/jetty-jndi-9.4.51.v20230217.jar:/content/hadoop-3.3.6/share/hadoop/yarn/lib/jetty-client-9.4.51.v20230217.jar:/content/hadoop-3.3.6/share/hadoop/yarn/lib/jline-3.9.0.jar:/content/hadoop-3.3.6/share/hadoop/yarn/lib/websocket-api-9.4.51.v20230217.jar:/content/hadoop-3.3.6/share/hadoop/yarn/lib/snakeyaml-2.0.jar:/content/hadoop-3.3.6/share/hadoop/yarn/lib/guice-servlet-4.0.jar:/content/hadoop-3.3.6/share/hadoop/yarn/hadoop-yarn-server-resourcemanager-3.3.6.jar:/content/hadoop-3.3.6/share/hadoop/yarn/hadoop-yarn-services-core-3.3.6.jar:/content/hadoop-3.3.6/share/hadoop/yarn/hadoop-yarn-api-3.3.6.jar:/content/hadoop-3.3.6/share/hadoop/yarn/hadoop-yarn-server-applicationhistoryservice-3.3.6.jar:/content/hadoop-3.3.6/share/hadoop/yarn/hadoop-yarn-server-sharedcachemanager-3.3.6.jar:/content/hadoop-3.3.6/share/hadoop/yarn/hadoop-yarn-applications-mawo-core-3.3.6.jar:/content/hadoop-3.3.6/share/hadoop/yarn/hadoop-yarn-server-timeline-pluginstorage-3.3.6.jar:/content/hadoop-3.3.6/share/hadoop/yarn/hadoop-yarn-registry-3.3.6.jar:/content/hadoop-3.3.6/share/hadoop/yarn/hadoop-yarn-server-web-proxy-3.3.6.jar:/content/hadoop-3.3.6/share/hadoop/yarn/hadoop-yarn-server-nodemanager-3.3.6.jar:/content/hadoop-3.3.6/share/hadoop/yarn/hadoop-yarn-server-router-3.3.6.jar:/content/hadoop-3.3.6/share/hadoop/yarn/hadoop-yarn-applications-distributedshell-3.3.6.jar:/content/hadoop-3.3.6/share/hadoop/yarn/hadoop-yarn-applications-unmanaged-am-launcher-3.3.6.jar:/content/hadoop-3.3.6/share/hadoop/yarn/hadoop-yarn-services-api-3.3.6.jar:/content/hadoop-3.3.6/share/hadoop/yarn/hadoop-yarn-server-tests-3.3.6.jar:/content/hadoop-3.3.6/share/hadoop/yarn/hadoop-yarn-common-3.3.6.jar:/content/hadoop-3.3.6/share/hadoop/yarn/hadoop-yarn-client-3.3.6.jar:/content/hadoop-3.3.6/share/hadoop/yarn/hadoop-yarn-server-common-3.3.6.jar\n",
            "STARTUP_MSG:   build = https://github.com/apache/hadoop.git -r 1be78238728da9266a4f88195058f08fd012bf9c; compiled by 'ubuntu' on 2023-06-18T08:22Z\n",
            "STARTUP_MSG:   java = 1.8.0_442\n",
            "************************************************************/\n",
            "2025-04-09 22:49:41,397 INFO namenode.NameNode: registered UNIX signal handlers for [TERM, HUP, INT]\n",
            "2025-04-09 22:49:41,759 INFO namenode.NameNode: createNameNode [-format]\n",
            "2025-04-09 22:49:43,162 INFO namenode.NameNode: Formatting using clusterid: CID-7f325cdd-8940-49c7-a5d3-2154dd09a124\n",
            "2025-04-09 22:49:43,293 INFO namenode.FSEditLog: Edit logging is async:true\n",
            "2025-04-09 22:49:43,345 INFO namenode.FSNamesystem: KeyProvider: null\n",
            "2025-04-09 22:49:43,348 INFO namenode.FSNamesystem: fsLock is fair: true\n",
            "2025-04-09 22:49:43,349 INFO namenode.FSNamesystem: Detailed lock hold time metrics enabled: false\n",
            "2025-04-09 22:49:43,366 INFO namenode.FSNamesystem: fsOwner                = root (auth:SIMPLE)\n",
            "2025-04-09 22:49:43,366 INFO namenode.FSNamesystem: supergroup             = supergroup\n",
            "2025-04-09 22:49:43,366 INFO namenode.FSNamesystem: isPermissionEnabled    = true\n",
            "2025-04-09 22:49:43,366 INFO namenode.FSNamesystem: isStoragePolicyEnabled = true\n",
            "2025-04-09 22:49:43,366 INFO namenode.FSNamesystem: HA Enabled: false\n",
            "2025-04-09 22:49:43,440 INFO common.Util: dfs.datanode.fileio.profiling.sampling.percentage set to 0. Disabling file IO profiling\n",
            "2025-04-09 22:49:43,647 INFO blockmanagement.DatanodeManager: dfs.block.invalidate.limit : configured=1000, counted=60, effected=1000\n",
            "2025-04-09 22:49:43,647 INFO blockmanagement.DatanodeManager: dfs.namenode.datanode.registration.ip-hostname-check=true\n",
            "2025-04-09 22:49:43,652 INFO blockmanagement.BlockManager: dfs.namenode.startup.delay.block.deletion.sec is set to 000:00:00:00.000\n",
            "2025-04-09 22:49:43,653 INFO blockmanagement.BlockManager: The block deletion will start around 2025 Apr 09 22:49:43\n",
            "2025-04-09 22:49:43,655 INFO util.GSet: Computing capacity for map BlocksMap\n",
            "2025-04-09 22:49:43,655 INFO util.GSet: VM type       = 64-bit\n",
            "2025-04-09 22:49:43,659 INFO util.GSet: 2.0% max memory 2.8 GB = 57.7 MB\n",
            "2025-04-09 22:49:43,659 INFO util.GSet: capacity      = 2^23 = 8388608 entries\n",
            "2025-04-09 22:49:43,733 INFO blockmanagement.BlockManager: Storage policy satisfier is disabled\n",
            "2025-04-09 22:49:43,733 INFO blockmanagement.BlockManager: dfs.block.access.token.enable = false\n",
            "2025-04-09 22:49:43,749 INFO blockmanagement.BlockManagerSafeMode: dfs.namenode.safemode.threshold-pct = 0.999\n",
            "2025-04-09 22:49:43,749 INFO blockmanagement.BlockManagerSafeMode: dfs.namenode.safemode.min.datanodes = 0\n",
            "2025-04-09 22:49:43,749 INFO blockmanagement.BlockManagerSafeMode: dfs.namenode.safemode.extension = 30000\n",
            "2025-04-09 22:49:43,750 INFO blockmanagement.BlockManager: defaultReplication         = 1\n",
            "2025-04-09 22:49:43,750 INFO blockmanagement.BlockManager: maxReplication             = 512\n",
            "2025-04-09 22:49:43,750 INFO blockmanagement.BlockManager: minReplication             = 1\n",
            "2025-04-09 22:49:43,751 INFO blockmanagement.BlockManager: maxReplicationStreams      = 2\n",
            "2025-04-09 22:49:43,751 INFO blockmanagement.BlockManager: redundancyRecheckInterval  = 3000ms\n",
            "2025-04-09 22:49:43,751 INFO blockmanagement.BlockManager: encryptDataTransfer        = false\n",
            "2025-04-09 22:49:43,751 INFO blockmanagement.BlockManager: maxNumBlocksToLog          = 1000\n",
            "2025-04-09 22:49:43,829 INFO namenode.FSDirectory: GLOBAL serial map: bits=29 maxEntries=536870911\n",
            "2025-04-09 22:49:43,829 INFO namenode.FSDirectory: USER serial map: bits=24 maxEntries=16777215\n",
            "2025-04-09 22:49:43,829 INFO namenode.FSDirectory: GROUP serial map: bits=24 maxEntries=16777215\n",
            "2025-04-09 22:49:43,829 INFO namenode.FSDirectory: XATTR serial map: bits=24 maxEntries=16777215\n",
            "2025-04-09 22:49:43,869 INFO util.GSet: Computing capacity for map INodeMap\n",
            "2025-04-09 22:49:43,869 INFO util.GSet: VM type       = 64-bit\n",
            "2025-04-09 22:49:43,870 INFO util.GSet: 1.0% max memory 2.8 GB = 28.9 MB\n",
            "2025-04-09 22:49:43,870 INFO util.GSet: capacity      = 2^22 = 4194304 entries\n",
            "2025-04-09 22:49:44,018 INFO namenode.FSDirectory: ACLs enabled? true\n",
            "2025-04-09 22:49:44,018 INFO namenode.FSDirectory: POSIX ACL inheritance enabled? true\n",
            "2025-04-09 22:49:44,018 INFO namenode.FSDirectory: XAttrs enabled? true\n",
            "2025-04-09 22:49:44,020 INFO namenode.NameNode: Caching file names occurring more than 10 times\n",
            "2025-04-09 22:49:44,027 INFO snapshot.SnapshotManager: Loaded config captureOpenFiles: false, skipCaptureAccessTimeOnlyChange: false, snapshotDiffAllowSnapRootDescendant: true, maxSnapshotLimit: 65536\n",
            "2025-04-09 22:49:44,033 INFO snapshot.SnapshotManager: SkipList is disabled\n",
            "2025-04-09 22:49:44,040 INFO util.GSet: Computing capacity for map cachedBlocks\n",
            "2025-04-09 22:49:44,040 INFO util.GSet: VM type       = 64-bit\n",
            "2025-04-09 22:49:44,041 INFO util.GSet: 0.25% max memory 2.8 GB = 7.2 MB\n",
            "2025-04-09 22:49:44,041 INFO util.GSet: capacity      = 2^20 = 1048576 entries\n",
            "2025-04-09 22:49:44,054 INFO metrics.TopMetrics: NNTop conf: dfs.namenode.top.window.num.buckets = 10\n",
            "2025-04-09 22:49:44,054 INFO metrics.TopMetrics: NNTop conf: dfs.namenode.top.num.users = 10\n",
            "2025-04-09 22:49:44,054 INFO metrics.TopMetrics: NNTop conf: dfs.namenode.top.windows.minutes = 1,5,25\n",
            "2025-04-09 22:49:44,060 INFO namenode.FSNamesystem: Retry cache on namenode is enabled\n",
            "2025-04-09 22:49:44,060 INFO namenode.FSNamesystem: Retry cache will use 0.03 of total heap and retry cache entry expiry time is 600000 millis\n",
            "2025-04-09 22:49:44,063 INFO util.GSet: Computing capacity for map NameNodeRetryCache\n",
            "2025-04-09 22:49:44,063 INFO util.GSet: VM type       = 64-bit\n",
            "2025-04-09 22:49:44,064 INFO util.GSet: 0.029999999329447746% max memory 2.8 GB = 886.4 KB\n",
            "2025-04-09 22:49:44,064 INFO util.GSet: capacity      = 2^17 = 131072 entries\n",
            "2025-04-09 22:49:44,107 INFO namenode.FSImage: Allocated new BlockPoolId: BP-63295808-172.28.0.12-1744238984096\n",
            "2025-04-09 22:49:44,146 INFO common.Storage: Storage directory /content/hadoop_tmp/dfs/name has been successfully formatted.\n",
            "2025-04-09 22:49:44,371 INFO namenode.FSImageFormatProtobuf: Saving image file /content/hadoop_tmp/dfs/name/current/fsimage.ckpt_0000000000000000000 using no compression\n",
            "2025-04-09 22:49:44,527 INFO namenode.FSImageFormatProtobuf: Image file /content/hadoop_tmp/dfs/name/current/fsimage.ckpt_0000000000000000000 of size 399 bytes saved in 0 seconds .\n",
            "2025-04-09 22:49:44,549 INFO namenode.NNStorageRetentionManager: Going to retain 1 images with txid >= 0\n",
            "2025-04-09 22:49:44,593 INFO namenode.FSNamesystem: Stopping services started for active state\n",
            "2025-04-09 22:49:44,594 INFO namenode.FSNamesystem: Stopping services started for standby state\n",
            "2025-04-09 22:49:44,600 INFO namenode.FSImage: FSImageSaver clean checkpoint: txid=0 when meet shutdown.\n",
            "2025-04-09 22:49:44,601 INFO namenode.NameNode: SHUTDOWN_MSG: \n",
            "/************************************************************\n",
            "SHUTDOWN_MSG: Shutting down NameNode at 666a58e84549/172.28.0.12\n",
            "************************************************************/\n"
          ]
        }
      ]
    },
    {
      "cell_type": "markdown",
      "source": [
        "# Étape 5 : Démarrer HDFS :\n"
      ],
      "metadata": {
        "id": "U3FQZ0_3vrZv"
      }
    },
    {
      "cell_type": "code",
      "source": [
        "!/content/hadoop-3.3.6/bin/hdfs namenode &\n",
        "!/content/hadoop-3.3.6/bin/hdfs datanode &"
      ],
      "metadata": {
        "colab": {
          "base_uri": "https://localhost:8080/"
        },
        "id": "odVBEUNwvuE1",
        "outputId": "72ef6841-8dd3-4c54-e9cc-5e5799ec519f"
      },
      "execution_count": 1,
      "outputs": [
        {
          "output_type": "stream",
          "name": "stdout",
          "text": [
            "ERROR: JAVA_HOME is not set and could not be found.\n",
            "ERROR: JAVA_HOME is not set and could not be found.\n"
          ]
        }
      ]
    },
    {
      "cell_type": "markdown",
      "source": [
        "# Étape 6 : Créer un répertoire dans HDFS\n"
      ],
      "metadata": {
        "id": "Gz817cx0woWx"
      }
    },
    {
      "cell_type": "code",
      "source": [
        "!hdfs dfs -mkdir -p /tp_hdfs"
      ],
      "metadata": {
        "colab": {
          "base_uri": "https://localhost:8080/"
        },
        "id": "6EcmOy1xxAjA",
        "outputId": "0f4ef904-a4d7-404e-d291-9f9fc73b2d25"
      },
      "execution_count": 2,
      "outputs": [
        {
          "output_type": "stream",
          "name": "stdout",
          "text": [
            "/bin/bash: line 1: hdfs: command not found\n"
          ]
        }
      ]
    },
    {
      "cell_type": "markdown",
      "source": [
        "# Étape 7 : Créer un fichier local et l’envoyer à HDFS"
      ],
      "metadata": {
        "id": "wlEsClHNwp-D"
      }
    },
    {
      "cell_type": "code",
      "source": [
        "!echo \"Bonjour HDFS depuis Google Colab!\" > fichier_test.txt\n",
        "!hdfs dfs -put fichier_test.txt /tp_hdfs"
      ],
      "metadata": {
        "colab": {
          "base_uri": "https://localhost:8080/"
        },
        "id": "LlXOlmlxxA_J",
        "outputId": "0951697b-547e-4921-a73f-aea295057f31"
      },
      "execution_count": 3,
      "outputs": [
        {
          "output_type": "stream",
          "name": "stdout",
          "text": [
            "/bin/bash: line 1: hdfs: command not found\n"
          ]
        }
      ]
    },
    {
      "cell_type": "markdown",
      "source": [
        "# Étape 8 : Lire et afficher un fichier dans HDFS\n"
      ],
      "metadata": {
        "id": "zj-xqbkMwub6"
      }
    },
    {
      "cell_type": "code",
      "source": [
        "!hdfs dfs -ls /tp_hdfs\n",
        "!hdfs dfs -cat /tp_hdfs/fichier_test.txt"
      ],
      "metadata": {
        "colab": {
          "base_uri": "https://localhost:8080/"
        },
        "id": "toRFX29FxFHs",
        "outputId": "3126b77e-e6fd-4e62-943d-8986100dd4ca"
      },
      "execution_count": 4,
      "outputs": [
        {
          "output_type": "stream",
          "name": "stdout",
          "text": [
            "/bin/bash: line 1: hdfs: command not found\n",
            "/bin/bash: line 1: hdfs: command not found\n"
          ]
        }
      ]
    },
    {
      "cell_type": "markdown",
      "source": [
        "# Étape 9 : Supprimer un fichier et un dossier"
      ],
      "metadata": {
        "id": "fZ1VWmdswytp"
      }
    },
    {
      "cell_type": "code",
      "source": [
        "!hdfs dfs -rm /tp_hdfs/fichier_test.txt\n",
        "!hdfs dfs -rmdir /tp_hdfs"
      ],
      "metadata": {
        "colab": {
          "base_uri": "https://localhost:8080/"
        },
        "id": "FGGDTA_9xHy5",
        "outputId": "8bf20f2b-03cf-4d97-b7ba-086d15a9fb33"
      },
      "execution_count": 5,
      "outputs": [
        {
          "output_type": "stream",
          "name": "stdout",
          "text": [
            "/bin/bash: line 1: hdfs: command not found\n",
            "/bin/bash: line 1: hdfs: command not found\n"
          ]
        }
      ]
    }
  ]
}